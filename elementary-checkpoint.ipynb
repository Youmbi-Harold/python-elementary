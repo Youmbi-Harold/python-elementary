{
 "cells": [
  {
   "cell_type": "code",
   "execution_count": 4,
   "id": "e5230ecf",
   "metadata": {},
   "outputs": [],
   "source": [
    "radius=20 #variable\n",
    "area = radius*radius*3.14 #formula\n",
    "item1= 20"
   ]
  },
  {
   "cell_type": "code",
   "execution_count": 2,
   "id": "23a71edb",
   "metadata": {},
   "outputs": [
    {
     "name": "stdout",
     "output_type": "stream",
     "text": [
      "The area of the object with radius 20 is 1256.0\n"
     ]
    }
   ],
   "source": [
    "print(\"The area of the object with radius\", radius, \"is\", area)"
   ]
  },
  {
   "cell_type": "code",
   "execution_count": 5,
   "id": "f7578ec9",
   "metadata": {},
   "outputs": [
    {
     "name": "stdout",
     "output_type": "stream",
     "text": [
      "20\n"
     ]
    }
   ],
   "source": [
    "print(item1)"
   ]
  },
  {
   "cell_type": "code",
   "execution_count": 6,
   "id": "361a64e2",
   "metadata": {},
   "outputs": [],
   "source": [
    "width = 5.5\n",
    "height = 2"
   ]
  },
  {
   "cell_type": "code",
   "execution_count": 7,
   "id": "8704e847",
   "metadata": {},
   "outputs": [
    {
     "name": "stdout",
     "output_type": "stream",
     "text": [
      "area is 11.0\n"
     ]
    }
   ],
   "source": [
    "print(\"area is\", width*height)#printing the value of area by hard method"
   ]
  },
  {
   "cell_type": "code",
   "execution_count": 9,
   "id": "143f7e4f",
   "metadata": {},
   "outputs": [
    {
     "name": "stdout",
     "output_type": "stream",
     "text": [
      "The conversion is equals to :  160.9\n"
     ]
    }
   ],
   "source": [
    "miles = 100\n",
    "kilometers = miles*1.609\n",
    "print(\"The conversion is equals to : \", kilometers)"
   ]
  },
  {
   "cell_type": "code",
   "execution_count": 10,
   "id": "a808593f",
   "metadata": {},
   "outputs": [
    {
     "name": "stdout",
     "output_type": "stream",
     "text": [
      "Please enter a number5\n"
     ]
    }
   ],
   "source": [
    "variable = input(\"Please enter a number\")"
   ]
  },
  {
   "cell_type": "code",
   "execution_count": 19,
   "id": "7d302632",
   "metadata": {},
   "outputs": [
    {
     "data": {
      "text/plain": [
       "11"
      ]
     },
     "execution_count": 19,
     "metadata": {},
     "output_type": "execute_result"
    }
   ],
   "source": [
    "eval('5+6')"
   ]
  },
  {
   "cell_type": "code",
   "execution_count": null,
   "id": "b2ca3a04",
   "metadata": {},
   "outputs": [],
   "source": [
    "#using 'eval' to convert string into numeric value\n",
    "radius = eval(input(\"Please enter the radius \")) #prompt user\n",
    "area = radius*radius*\\ #using the'\\' to signify continuation\n",
    "3.14 #computing the area\n",
    "print('The Area of the Circle is :', area) # display results"
   ]
  },
  {
   "cell_type": "code",
   "execution_count": 1,
   "id": "e6340346",
   "metadata": {},
   "outputs": [
    {
     "data": {
      "text/plain": [
       "2.0"
      ]
     },
     "execution_count": 1,
     "metadata": {},
     "output_type": "execute_result"
    }
   ],
   "source": [
    "4**0.5"
   ]
  },
  {
   "cell_type": "code",
   "execution_count": 2,
   "id": "7797b716",
   "metadata": {},
   "outputs": [
    {
     "data": {
      "text/plain": [
       "2.0"
      ]
     },
     "execution_count": 2,
     "metadata": {},
     "output_type": "execute_result"
    }
   ],
   "source": [
    "4/2"
   ]
  },
  {
   "cell_type": "code",
   "execution_count": 3,
   "id": "0d8227c4",
   "metadata": {},
   "outputs": [
    {
     "data": {
      "text/plain": [
       "2"
      ]
     },
     "execution_count": 3,
     "metadata": {},
     "output_type": "execute_result"
    }
   ],
   "source": [
    "4//2"
   ]
  },
  {
   "cell_type": "code",
   "execution_count": 11,
   "id": "1309d9cb",
   "metadata": {},
   "outputs": [
    {
     "name": "stdout",
     "output_type": "stream",
     "text": [
      "Please input seconds60\n",
      "60 Seconds is 1 minutes with 0 seconds\n"
     ]
    }
   ],
   "source": [
    "#prompting the viewer\n",
    "seconds = eval(input(\"Please input seconds\"))\n",
    "\n",
    "#performing calculation to find out the number of minutes\n",
    "minutes = seconds // 60 #1mins equals 60secs\n",
    "rem_seconds = seconds % 60 #dividin and showing the remaining seconds\n",
    "print(seconds, \"Seconds is\", minutes,\"minutes with\", rem_seconds, \"seconds\")"
   ]
  },
  {
   "cell_type": "code",
   "execution_count": 14,
   "id": "de179bc1",
   "metadata": {},
   "outputs": [
    {
     "data": {
      "text/plain": [
       "26.009999999999998"
      ]
     },
     "execution_count": 14,
     "metadata": {},
     "output_type": "execute_result"
    }
   ],
   "source": [
    "5.1**2"
   ]
  },
  {
   "cell_type": "code",
   "execution_count": 15,
   "id": "32a62691",
   "metadata": {},
   "outputs": [
    {
     "name": "stdout",
     "output_type": "stream",
     "text": [
      "The number 100th Day of the week will be 4\n"
     ]
    }
   ],
   "source": [
    "#solving checkpoint 2.12\n",
    "sumOfDays = 2+100 #starting sum from the 2nd day to 100th day\n",
    "day = sumOfDays % 7# dividin the sum of days by the total number of days of the week\n",
    "print(\"The number 100th Day of the week will be\", day)\n",
    "#there is another better way to do this using \"IF\" function"
   ]
  },
  {
   "cell_type": "code",
   "execution_count": 16,
   "id": "d4820c2f",
   "metadata": {},
   "outputs": [
    {
     "data": {
      "text/plain": [
       "6.25"
      ]
     },
     "execution_count": 16,
     "metadata": {},
     "output_type": "execute_result"
    }
   ],
   "source": [
    "25/4"
   ]
  },
  {
   "cell_type": "code",
   "execution_count": 17,
   "id": "34d64483",
   "metadata": {},
   "outputs": [
    {
     "data": {
      "text/plain": [
       "6"
      ]
     },
     "execution_count": 17,
     "metadata": {},
     "output_type": "execute_result"
    }
   ],
   "source": [
    "25//4"
   ]
  },
  {
   "cell_type": "code",
   "execution_count": null,
   "id": "da1e6984",
   "metadata": {},
   "outputs": [],
   "source": []
  }
 ],
 "metadata": {
  "kernelspec": {
   "display_name": "Python 3.8.5 64-bit",
   "language": "python",
   "name": "python385jvsc74a57bd066bccaa44e2aab93a1476cb08bc145cbbb2ba14adb8b52a5fd371d1d4c4b1abb"
  },
  "language_info": {
   "codemirror_mode": {
    "name": "ipython",
    "version": 3
   },
   "file_extension": ".py",
   "mimetype": "text/x-python",
   "name": "python",
   "nbconvert_exporter": "python",
   "pygments_lexer": "ipython3",
   "version": "3.8.5"
  }
 },
 "nbformat": 4,
 "nbformat_minor": 5
}
