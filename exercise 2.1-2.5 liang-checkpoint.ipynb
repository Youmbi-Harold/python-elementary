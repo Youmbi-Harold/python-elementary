{
 "cells": [
  {
   "cell_type": "code",
   "execution_count": 3,
   "id": "776ec8bf",
   "metadata": {},
   "outputs": [
    {
     "name": "stdout",
     "output_type": "stream",
     "text": [
      "Please enter reading :43\n",
      "Temperature in Fahrenheit is : 109.4 Fahrenheit\n"
     ]
    }
   ],
   "source": [
    "#writing a program that converts celcius to Fahrenheit\n",
    "celsius = eval(input(\"Please enter reading :\"))#prompting the observer\n",
    "\n",
    "fahrenheit = (9/5)*celsius+32#conversion\n",
    "print(\"Temperature in Fahrenheit is :\", fahrenheit,\"Fahrenheit\")"
   ]
  },
  {
   "cell_type": "code",
   "execution_count": 13,
   "id": "ffe98c79",
   "metadata": {},
   "outputs": [
    {
     "name": "stdout",
     "output_type": "stream",
     "text": [
      "Please enter the radius and lenght of the cylinder measured5.5,12\n",
      "The area of the cylinder is : 94.985 and its volume is : 1139.82\n"
     ]
    }
   ],
   "source": [
    "#program to claculate area and volume of a cylinder\n",
    "radius,Lenght = eval(input(\"Please enter the radius and lenght of the cylinder measured\"))#prompting the Observer\n",
    "\n",
    "Area = radius**2 * 3.14\n",
    "Volume = Area * Lenght #performing calculations\n",
    "print(\"The area of the cylinder is :\", Area \\\n",
    "       ,\"and its volume is :\", Volume)"
   ]
  },
  {
   "cell_type": "code",
   "execution_count": 14,
   "id": "ebc236ff",
   "metadata": {},
   "outputs": [
    {
     "name": "stdout",
     "output_type": "stream",
     "text": [
      "Please enter the number of Feets made 16.5\n",
      "16.5 feets in meters will be  5.0325 meters(m)\n"
     ]
    }
   ],
   "source": [
    "feet = eval(input(\"Please enter the number of Feets made \"))#prompting the Observer\n",
    "mters = feet* 0.305\n",
    "\n",
    "print(feet, 'feets in meters will be ', mters, 'meters(m)')"
   ]
  },
  {
   "cell_type": "code",
   "execution_count": 25,
   "id": "c95ae21c",
   "metadata": {},
   "outputs": [
    {
     "name": "stdout",
     "output_type": "stream",
     "text": [
      "Please enter subtotal and gratuity rate e.g subtotal, gratuity15.69,15\n",
      "the Gratuity is  2.35 with a Total of :  18.04\n"
     ]
    }
   ],
   "source": [
    "# writing a program to calculate gratuity and Total\n",
    "sub_total, gratuity_rate = eval(input(\"Please enter subtotal and gratuity rate e.g subtotal, gratuity\"))\n",
    "\n",
    "#computing gratuity and total\n",
    "grat = (gratuity_rate *sub_total)/100\n",
    "gratuity = int(grat*100)/100.0\n",
    "total = gratuity + sub_total\n",
    "\n",
    "print(\"the Gratuity is \", gratuity, \"with a Total of : \", total)"
   ]
  },
  {
   "cell_type": "code",
   "execution_count": null,
   "id": "e63bd661",
   "metadata": {},
   "outputs": [],
   "source": [
    "gratuity"
   ]
  }
 ],
 "metadata": {
  "kernelspec": {
   "display_name": "Python 3 (ipykernel)",
   "language": "python",
   "name": "python3"
  },
  "language_info": {
   "codemirror_mode": {
    "name": "ipython",
    "version": 3
   },
   "file_extension": ".py",
   "mimetype": "text/x-python",
   "name": "python",
   "nbconvert_exporter": "python",
   "pygments_lexer": "ipython3",
   "version": "3.8.5"
  }
 },
 "nbformat": 4,
 "nbformat_minor": 5
}
